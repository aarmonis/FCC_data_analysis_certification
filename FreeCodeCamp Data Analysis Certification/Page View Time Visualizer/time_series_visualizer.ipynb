{
 "cells": [
  {
   "cell_type": "markdown",
   "id": "1657b6bf",
   "metadata": {},
   "source": [
    "# Import relevant libraries."
   ]
  },
  {
   "cell_type": "code",
   "execution_count": 8,
   "id": "9502f66d",
   "metadata": {},
   "outputs": [],
   "source": [
    "import matplotlib.pyplot as plt\n",
    "import seaborn as sns\n",
    "import pandas as pd"
   ]
  },
  {
   "cell_type": "markdown",
   "id": "b3ffbc38",
   "metadata": {},
   "source": [
    "# Import dataframe with pd.read_csv()"
   ]
  },
  {
   "cell_type": "code",
   "execution_count": 6,
   "id": "bd3e9400",
   "metadata": {},
   "outputs": [
    {
     "data": {
      "text/html": [
       "<div>\n",
       "<style scoped>\n",
       "    .dataframe tbody tr th:only-of-type {\n",
       "        vertical-align: middle;\n",
       "    }\n",
       "\n",
       "    .dataframe tbody tr th {\n",
       "        vertical-align: top;\n",
       "    }\n",
       "\n",
       "    .dataframe thead th {\n",
       "        text-align: right;\n",
       "    }\n",
       "</style>\n",
       "<table border=\"1\" class=\"dataframe\">\n",
       "  <thead>\n",
       "    <tr style=\"text-align: right;\">\n",
       "      <th></th>\n",
       "      <th>value</th>\n",
       "    </tr>\n",
       "    <tr>\n",
       "      <th>date</th>\n",
       "      <th></th>\n",
       "    </tr>\n",
       "  </thead>\n",
       "  <tbody>\n",
       "    <tr>\n",
       "      <th>2016-05-09</th>\n",
       "      <td>1201</td>\n",
       "    </tr>\n",
       "    <tr>\n",
       "      <th>2016-05-10</th>\n",
       "      <td>2329</td>\n",
       "    </tr>\n",
       "    <tr>\n",
       "      <th>2016-05-11</th>\n",
       "      <td>1716</td>\n",
       "    </tr>\n",
       "    <tr>\n",
       "      <th>2016-05-12</th>\n",
       "      <td>10539</td>\n",
       "    </tr>\n",
       "    <tr>\n",
       "      <th>2016-05-13</th>\n",
       "      <td>6933</td>\n",
       "    </tr>\n",
       "  </tbody>\n",
       "</table>\n",
       "</div>"
      ],
      "text/plain": [
       "            value\n",
       "date             \n",
       "2016-05-09   1201\n",
       "2016-05-10   2329\n",
       "2016-05-11   1716\n",
       "2016-05-12  10539\n",
       "2016-05-13   6933"
      ]
     },
     "execution_count": 6,
     "metadata": {},
     "output_type": "execute_result"
    }
   ],
   "source": [
    "#set_index('date')\n",
    "df=pd.read_csv(\"fcc-forum-pageviews.csv\", parse_dates=True).set_index('date')\n",
    "df.head()"
   ]
  },
  {
   "cell_type": "markdown",
   "id": "45d9b63a",
   "metadata": {},
   "source": [
    "# Clean data"
   ]
  },
  {
   "cell_type": "code",
   "execution_count": 7,
   "id": "00503595",
   "metadata": {},
   "outputs": [
    {
     "data": {
      "text/html": [
       "<div>\n",
       "<style scoped>\n",
       "    .dataframe tbody tr th:only-of-type {\n",
       "        vertical-align: middle;\n",
       "    }\n",
       "\n",
       "    .dataframe tbody tr th {\n",
       "        vertical-align: top;\n",
       "    }\n",
       "\n",
       "    .dataframe thead th {\n",
       "        text-align: right;\n",
       "    }\n",
       "</style>\n",
       "<table border=\"1\" class=\"dataframe\">\n",
       "  <thead>\n",
       "    <tr style=\"text-align: right;\">\n",
       "      <th></th>\n",
       "      <th>value</th>\n",
       "    </tr>\n",
       "    <tr>\n",
       "      <th>date</th>\n",
       "      <th></th>\n",
       "    </tr>\n",
       "  </thead>\n",
       "  <tbody>\n",
       "    <tr>\n",
       "      <th>2016-05-19</th>\n",
       "      <td>19736</td>\n",
       "    </tr>\n",
       "    <tr>\n",
       "      <th>2016-05-26</th>\n",
       "      <td>18060</td>\n",
       "    </tr>\n",
       "    <tr>\n",
       "      <th>2016-05-27</th>\n",
       "      <td>19997</td>\n",
       "    </tr>\n",
       "    <tr>\n",
       "      <th>2016-05-28</th>\n",
       "      <td>19044</td>\n",
       "    </tr>\n",
       "    <tr>\n",
       "      <th>2016-05-29</th>\n",
       "      <td>20325</td>\n",
       "    </tr>\n",
       "  </tbody>\n",
       "</table>\n",
       "</div>"
      ],
      "text/plain": [
       "            value\n",
       "date             \n",
       "2016-05-19  19736\n",
       "2016-05-26  18060\n",
       "2016-05-27  19997\n",
       "2016-05-28  19044\n",
       "2016-05-29  20325"
      ]
     },
     "execution_count": 7,
     "metadata": {},
     "output_type": "execute_result"
    }
   ],
   "source": [
    "# 0.025 < data < 0.075\n",
    "df=df.drop(df[(df['value']<df['value'].quantile(0.025)) | (df['value']>df['value'].quantile(0.975))].index)\n",
    "df.head()"
   ]
  },
  {
   "cell_type": "markdown",
   "id": "95b25c06",
   "metadata": {},
   "source": [
    "# Draw Line Plot "
   ]
  },
  {
   "cell_type": "code",
   "execution_count": 65,
   "id": "f26f6f1f",
   "metadata": {},
   "outputs": [
    {
     "data": {
      "text/plain": [
       "Text(0, 0.5, 'Page Views')"
      ]
     },
     "execution_count": 65,
     "metadata": {},
     "output_type": "execute_result"
    },
    {
     "data": {
      "image/png": "[encoded data removed]",
      "text/plain": [
       "<Figure size 432x288 with 1 Axes>"
      ]
     },
     "metadata": {
      "needs_background": "light"
     },
     "output_type": "display_data"
    }
   ],
   "source": [
    "plt.plot(df['value'],color='red',linewidth=0.8)\n",
    "plt.title('Daily freeCodeCamp Forum Page Views 5/2016-12/2019')\n",
    "plt.xlabel('Date')\n",
    "plt.ylabel('Page Views')"
   ]
  },
  {
   "cell_type": "markdown",
   "id": "e41843e1",
   "metadata": {},
   "source": [
    "# Draw Bar Plot"
   ]
  },
  {
   "cell_type": "code",
   "execution_count": 16,
   "id": "b92551f3",
   "metadata": {},
   "outputs": [
    {
     "data": {
      "text/html": [
       "<div>\n",
       "<style scoped>\n",
       "    .dataframe tbody tr th:only-of-type {\n",
       "        vertical-align: middle;\n",
       "    }\n",
       "\n",
       "    .dataframe tbody tr th {\n",
       "        vertical-align: top;\n",
       "    }\n",
       "\n",
       "    .dataframe thead th {\n",
       "        text-align: right;\n",
       "    }\n",
       "</style>\n",
       "<table border=\"1\" class=\"dataframe\">\n",
       "  <thead>\n",
       "    <tr style=\"text-align: right;\">\n",
       "      <th>Month</th>\n",
       "      <th>1</th>\n",
       "      <th>2</th>\n",
       "      <th>3</th>\n",
       "      <th>4</th>\n",
       "      <th>5</th>\n",
       "      <th>6</th>\n",
       "      <th>7</th>\n",
       "      <th>8</th>\n",
       "      <th>9</th>\n",
       "      <th>10</th>\n",
       "      <th>11</th>\n",
       "      <th>12</th>\n",
       "    </tr>\n",
       "    <tr>\n",
       "      <th>Year</th>\n",
       "      <th></th>\n",
       "      <th></th>\n",
       "      <th></th>\n",
       "      <th></th>\n",
       "      <th></th>\n",
       "      <th></th>\n",
       "      <th></th>\n",
       "      <th></th>\n",
       "      <th></th>\n",
       "      <th></th>\n",
       "      <th></th>\n",
       "      <th></th>\n",
       "    </tr>\n",
       "  </thead>\n",
       "  <tbody>\n",
       "    <tr>\n",
       "      <th>2016</th>\n",
       "      <td>NaN</td>\n",
       "      <td>NaN</td>\n",
       "      <td>NaN</td>\n",
       "      <td>NaN</td>\n",
       "      <td>19432.400000</td>\n",
       "      <td>21875.105263</td>\n",
       "      <td>24109.678571</td>\n",
       "      <td>31049.193548</td>\n",
       "      <td>41476.866667</td>\n",
       "      <td>27398.322581</td>\n",
       "      <td>40448.633333</td>\n",
       "      <td>27832.419355</td>\n",
       "    </tr>\n",
       "    <tr>\n",
       "      <th>2017</th>\n",
       "      <td>32785.161290</td>\n",
       "      <td>31113.071429</td>\n",
       "      <td>29369.096774</td>\n",
       "      <td>30878.733333</td>\n",
       "      <td>34244.290323</td>\n",
       "      <td>43577.500000</td>\n",
       "      <td>65806.838710</td>\n",
       "      <td>47712.451613</td>\n",
       "      <td>47376.800000</td>\n",
       "      <td>47438.709677</td>\n",
       "      <td>57701.566667</td>\n",
       "      <td>48420.580645</td>\n",
       "    </tr>\n",
       "    <tr>\n",
       "      <th>2018</th>\n",
       "      <td>58580.096774</td>\n",
       "      <td>65679.000000</td>\n",
       "      <td>62693.774194</td>\n",
       "      <td>62350.833333</td>\n",
       "      <td>56562.870968</td>\n",
       "      <td>70117.000000</td>\n",
       "      <td>63591.064516</td>\n",
       "      <td>62831.612903</td>\n",
       "      <td>65941.733333</td>\n",
       "      <td>111378.142857</td>\n",
       "      <td>78688.333333</td>\n",
       "      <td>80047.483871</td>\n",
       "    </tr>\n",
       "    <tr>\n",
       "      <th>2019</th>\n",
       "      <td>102056.516129</td>\n",
       "      <td>105968.357143</td>\n",
       "      <td>91214.483871</td>\n",
       "      <td>89368.433333</td>\n",
       "      <td>91439.903226</td>\n",
       "      <td>90435.642857</td>\n",
       "      <td>97236.566667</td>\n",
       "      <td>102717.310345</td>\n",
       "      <td>97268.833333</td>\n",
       "      <td>122802.272727</td>\n",
       "      <td>143166.428571</td>\n",
       "      <td>150733.500000</td>\n",
       "    </tr>\n",
       "  </tbody>\n",
       "</table>\n",
       "</div>"
      ],
      "text/plain": [
       "Month             1              2             3             4             5   \\\n",
       "Year                                                                            \n",
       "2016             NaN            NaN           NaN           NaN  19432.400000   \n",
       "2017    32785.161290   31113.071429  29369.096774  30878.733333  34244.290323   \n",
       "2018    58580.096774   65679.000000  62693.774194  62350.833333  56562.870968   \n",
       "2019   102056.516129  105968.357143  91214.483871  89368.433333  91439.903226   \n",
       "\n",
       "Month            6             7              8             9              10  \\\n",
       "Year                                                                            \n",
       "2016   21875.105263  24109.678571   31049.193548  41476.866667   27398.322581   \n",
       "2017   43577.500000  65806.838710   47712.451613  47376.800000   47438.709677   \n",
       "2018   70117.000000  63591.064516   62831.612903  65941.733333  111378.142857   \n",
       "2019   90435.642857  97236.566667  102717.310345  97268.833333  122802.272727   \n",
       "\n",
       "Month             11             12  \n",
       "Year                                 \n",
       "2016    40448.633333   27832.419355  \n",
       "2017    57701.566667   48420.580645  \n",
       "2018    78688.333333   80047.483871  \n",
       "2019   143166.428571  150733.500000  "
      ]
     },
     "execution_count": 16,
     "metadata": {},
     "output_type": "execute_result"
    }
   ],
   "source": [
    "# add 'Year' and 'Month' column\n",
    "df_bar = df.copy()\n",
    "df_bar['Year'] = pd.DatetimeIndex(df_bar.index).year\n",
    "df_bar['Month'] = pd.DatetimeIndex(df_bar.index).month\n",
    "\n",
    "#group by 'Year', 'Month' display average values.\n",
    "df_bar = df_bar.groupby(['Year', 'Month'])['value'].mean()\n",
    "df_bar = df_bar.unstack()\n",
    "\n",
    "df_bar.head()"
   ]
  },
  {
   "cell_type": "code",
   "execution_count": 68,
   "id": "39de3958",
   "metadata": {},
   "outputs": [
    {
     "data": {
      "image/png": "[encoded data removed]",
      "text/plain": [
       "<Figure size 1080x720 with 1 Axes>"
      ]
     },
     "metadata": {
      "needs_background": "light"
     },
     "output_type": "display_data"
    }
   ],
   "source": [
    "#Draw the bar plot\n",
    "month_names=['January', 'February', 'March', 'April', 'May', 'June', 'July', \n",
    "             'August', 'September', 'October', 'November', 'December']\n",
    "fig = df_bar.plot(kind = 'bar', figsize = (15,10)).figure\n",
    "\n",
    "plt.title(\"\")\n",
    "plt.xlabel('Years')\n",
    "plt.ylabel(\"Average Page Views\")\n",
    "lg = plt.legend(title= \"Months\", fontsize = 15, labels = month_names)\n",
    "title = lg.get_title()\n",
    "title.set_fontsize(15)"
   ]
  },
  {
   "cell_type": "markdown",
   "id": "f6e01d32",
   "metadata": {},
   "source": [
    "# Draw a box plot"
   ]
  },
  {
   "cell_type": "code",
   "execution_count": 17,
   "id": "c1f6f9f6",
   "metadata": {},
   "outputs": [
    {
     "data": {
      "text/html": [
       "<div>\n",
       "<style scoped>\n",
       "    .dataframe tbody tr th:only-of-type {\n",
       "        vertical-align: middle;\n",
       "    }\n",
       "\n",
       "    .dataframe tbody tr th {\n",
       "        vertical-align: top;\n",
       "    }\n",
       "\n",
       "    .dataframe thead th {\n",
       "        text-align: right;\n",
       "    }\n",
       "</style>\n",
       "<table border=\"1\" class=\"dataframe\">\n",
       "  <thead>\n",
       "    <tr style=\"text-align: right;\">\n",
       "      <th></th>\n",
       "      <th>date</th>\n",
       "      <th>value</th>\n",
       "      <th>Year</th>\n",
       "      <th>Month</th>\n",
       "    </tr>\n",
       "  </thead>\n",
       "  <tbody>\n",
       "    <tr>\n",
       "      <th>0</th>\n",
       "      <td>2016-05-19</td>\n",
       "      <td>19736</td>\n",
       "      <td>2016</td>\n",
       "      <td>5</td>\n",
       "    </tr>\n",
       "    <tr>\n",
       "      <th>1</th>\n",
       "      <td>2016-05-26</td>\n",
       "      <td>18060</td>\n",
       "      <td>2016</td>\n",
       "      <td>5</td>\n",
       "    </tr>\n",
       "    <tr>\n",
       "      <th>2</th>\n",
       "      <td>2016-05-27</td>\n",
       "      <td>19997</td>\n",
       "      <td>2016</td>\n",
       "      <td>5</td>\n",
       "    </tr>\n",
       "    <tr>\n",
       "      <th>3</th>\n",
       "      <td>2016-05-28</td>\n",
       "      <td>19044</td>\n",
       "      <td>2016</td>\n",
       "      <td>5</td>\n",
       "    </tr>\n",
       "    <tr>\n",
       "      <th>4</th>\n",
       "      <td>2016-05-29</td>\n",
       "      <td>20325</td>\n",
       "      <td>2016</td>\n",
       "      <td>5</td>\n",
       "    </tr>\n",
       "  </tbody>\n",
       "</table>\n",
       "</div>"
      ],
      "text/plain": [
       "         date  value  Year  Month\n",
       "0  2016-05-19  19736  2016      5\n",
       "1  2016-05-26  18060  2016      5\n",
       "2  2016-05-27  19997  2016      5\n",
       "3  2016-05-28  19044  2016      5\n",
       "4  2016-05-29  20325  2016      5"
      ]
     },
     "execution_count": 17,
     "metadata": {},
     "output_type": "execute_result"
    }
   ],
   "source": [
    "#Add 'Year', 'Month' column in df_box\n",
    "df_box = df.copy()\n",
    "df_box.reset_index(inplace=True)\n",
    "df_box['Year'] = pd.DatetimeIndex(df_box['date']).year\n",
    "df_box['Month'] = pd.DatetimeIndex(df_box['date']).month\n",
    "\n",
    "df_box.head()"
   ]
  },
  {
   "cell_type": "code",
   "execution_count": 24,
   "id": "338cb6df",
   "metadata": {},
   "outputs": [
    {
     "data": {
      "text/plain": [
       "[Text(0, 0, 'Jan'),\n",
       " Text(1, 0, 'Feb'),\n",
       " Text(2, 0, 'Mar'),\n",
       " Text(3, 0, 'Apr'),\n",
       " Text(4, 0, 'May'),\n",
       " Text(5, 0, 'Jun'),\n",
       " Text(6, 0, 'Jul'),\n",
       " Text(7, 0, 'Aug'),\n",
       " Text(8, 0, 'Sep'),\n",
       " Text(9, 0, 'Oct'),\n",
       " Text(10, 0, 'Nov'),\n",
       " Text(11, 0, 'Dec')]"
      ]
     },
     "execution_count": 24,
     "metadata": {},
     "output_type": "execute_result"
    },
    {
     "data": {
      "image/png": "[encoded data removed]",
      "text/plain": [
       "<Figure size 720x360 with 2 Axes>"
      ]
     },
     "metadata": {
      "needs_background": "light"
     },
     "output_type": "display_data"
    }
   ],
   "source": [
    "#draw both boxplots using plt.sublots() and seaborn.\n",
    "month_labels = ['Jan', 'Feb', 'Mar', 'Apr', 'May', 'Jun', 'Jul', 'Aug', 'Sep', 'Oct', 'Nov', 'Dec']\n",
    "fig, axes = plt.subplots(nrows = 1, ncols =2, figsize=(10,5), sharey=True)\n",
    "\n",
    "sns.boxplot(ax= axes[0], x='Year', y='value', data = df_box)\n",
    "axes[0].set_title(\"Year-wise Box Plot (Trend)\")\n",
    "axes[0].set_xlabel('Year')\n",
    "axes[0].set_ylabel('Page Views')\n",
    "  \n",
    "sns.boxplot(ax= axes[1], x='Month', y='value', data = df_box)\n",
    "axes[1].set_title(\"Month-wise Box Plot (Seasonality)\")\n",
    "axes[1].set_xlabel('Month')\n",
    "axes[1].set_ylabel('Page Views')\n",
    "axes[1].set_xticklabels(month_labels)\n"
   ]
  }
 ],
 "metadata": {
  "kernelspec": {
   "display_name": "Python 3 (ipykernel)",
   "language": "python",
   "name": "python3"
  },
  "language_info": {
   "codemirror_mode": {
    "name": "ipython",
    "version": 3
   },
   "file_extension": ".py",
   "mimetype": "text/x-python",
   "name": "python",
   "nbconvert_exporter": "python",
   "pygments_lexer": "ipython3",
   "version": "3.9.1"
  }
 },
 "nbformat": 4,
 "nbformat_minor": 5
}
